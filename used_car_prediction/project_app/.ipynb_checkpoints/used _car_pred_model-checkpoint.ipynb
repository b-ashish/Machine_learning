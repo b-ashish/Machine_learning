{
 "cells": [
  {
   "cell_type": "code",
   "execution_count": 1,
   "id": "476ca77d",
   "metadata": {},
   "outputs": [],
   "source": [
    "import numpy as np\n",
    "import pandas as pd\n",
    "import re\n",
    "import seaborn as sns\n",
    "import matplotlib.pyplot as plt\n",
    "\n",
    "from sklearn.model_selection import train_test_split\n",
    "\n",
    "from sklearn.linear_model import LinearRegression\n",
    "from sklearn.tree import DecisionTreeRegressor,plot_tree\n",
    "from sklearn.ensemble import RandomForestRegressor,AdaBoostRegressor\n",
    "\n",
    "from sklearn.model_selection import RandomizedSearchCV \n",
    "\n",
    "from sklearn.metrics import mean_squared_error,mean_absolute_error,r2_score\n",
    "from Regression_score import Calculation"
   ]
  },
  {
   "cell_type": "code",
   "execution_count": 2,
   "id": "c497aee0",
   "metadata": {},
   "outputs": [
    {
     "data": {
      "text/html": [
       "<div>\n",
       "<style scoped>\n",
       "    .dataframe tbody tr th:only-of-type {\n",
       "        vertical-align: middle;\n",
       "    }\n",
       "\n",
       "    .dataframe tbody tr th {\n",
       "        vertical-align: top;\n",
       "    }\n",
       "\n",
       "    .dataframe thead th {\n",
       "        text-align: right;\n",
       "    }\n",
       "</style>\n",
       "<table border=\"1\" class=\"dataframe\">\n",
       "  <thead>\n",
       "    <tr style=\"text-align: right;\">\n",
       "      <th></th>\n",
       "      <th>full_name</th>\n",
       "      <th>selling_price</th>\n",
       "      <th>new_price</th>\n",
       "      <th>year</th>\n",
       "      <th>seller_type</th>\n",
       "      <th>km_driven</th>\n",
       "      <th>owner_type</th>\n",
       "      <th>fuel_type</th>\n",
       "      <th>transmission_type</th>\n",
       "      <th>mileage</th>\n",
       "      <th>engine</th>\n",
       "      <th>max_power</th>\n",
       "      <th>seats</th>\n",
       "    </tr>\n",
       "  </thead>\n",
       "  <tbody>\n",
       "    <tr>\n",
       "      <th>0</th>\n",
       "      <td>Maruti Alto Std</td>\n",
       "      <td>1.2 Lakh*</td>\n",
       "      <td>NaN</td>\n",
       "      <td>2012</td>\n",
       "      <td>Individual</td>\n",
       "      <td>1,20,000 kms</td>\n",
       "      <td>First Owner</td>\n",
       "      <td>Petrol</td>\n",
       "      <td>Manual</td>\n",
       "      <td>Mileage19.7 kmpl</td>\n",
       "      <td>Engine796 CC</td>\n",
       "      <td>Max Power46.3 bhp</td>\n",
       "      <td>Seats5</td>\n",
       "    </tr>\n",
       "    <tr>\n",
       "      <th>1</th>\n",
       "      <td>Hyundai Grand i10 Asta</td>\n",
       "      <td>5.5 Lakh*</td>\n",
       "      <td>New Car (On-Road Price) : Rs.7.11-7.48 Lakh*</td>\n",
       "      <td>2016</td>\n",
       "      <td>Individual</td>\n",
       "      <td>20,000 kms</td>\n",
       "      <td>First Owner</td>\n",
       "      <td>Petrol</td>\n",
       "      <td>Manual</td>\n",
       "      <td>Mileage18.9 kmpl</td>\n",
       "      <td>Engine1197 CC</td>\n",
       "      <td>Max Power82 bhp</td>\n",
       "      <td>Seats5</td>\n",
       "    </tr>\n",
       "    <tr>\n",
       "      <th>2</th>\n",
       "      <td>Hyundai i20 Asta</td>\n",
       "      <td>2.15 Lakh*</td>\n",
       "      <td>NaN</td>\n",
       "      <td>2010</td>\n",
       "      <td>Individual</td>\n",
       "      <td>60,000 kms</td>\n",
       "      <td>First Owner</td>\n",
       "      <td>Petrol</td>\n",
       "      <td>Manual</td>\n",
       "      <td>Mileage17.0 kmpl</td>\n",
       "      <td>Engine1197 CC</td>\n",
       "      <td>Max Power80 bhp</td>\n",
       "      <td>Seats5</td>\n",
       "    </tr>\n",
       "    <tr>\n",
       "      <th>3</th>\n",
       "      <td>Maruti Alto K10 2010-2014 VXI</td>\n",
       "      <td>2.26 Lakh*</td>\n",
       "      <td>NaN</td>\n",
       "      <td>2012</td>\n",
       "      <td>Individual</td>\n",
       "      <td>37,000 kms</td>\n",
       "      <td>First Owner</td>\n",
       "      <td>Petrol</td>\n",
       "      <td>Manual</td>\n",
       "      <td>Mileage20.92 kmpl</td>\n",
       "      <td>Engine998 CC</td>\n",
       "      <td>Max Power67.1 bhp</td>\n",
       "      <td>Seats5</td>\n",
       "    </tr>\n",
       "    <tr>\n",
       "      <th>4</th>\n",
       "      <td>Ford Ecosport 2015-2021 1.5 TDCi Titanium BSIV</td>\n",
       "      <td>5.7 Lakh*</td>\n",
       "      <td>New Car (On-Road Price) : Rs.10.14-13.79 Lakh*</td>\n",
       "      <td>2015</td>\n",
       "      <td>Dealer</td>\n",
       "      <td>30,000 kms</td>\n",
       "      <td>First Owner</td>\n",
       "      <td>Diesel</td>\n",
       "      <td>Manual</td>\n",
       "      <td>Mileage22.77 kmpl</td>\n",
       "      <td>Engine1498 CC</td>\n",
       "      <td>Max Power98.59 bhp</td>\n",
       "      <td>Seats5</td>\n",
       "    </tr>\n",
       "    <tr>\n",
       "      <th>...</th>\n",
       "      <td>...</td>\n",
       "      <td>...</td>\n",
       "      <td>...</td>\n",
       "      <td>...</td>\n",
       "      <td>...</td>\n",
       "      <td>...</td>\n",
       "      <td>...</td>\n",
       "      <td>...</td>\n",
       "      <td>...</td>\n",
       "      <td>...</td>\n",
       "      <td>...</td>\n",
       "      <td>...</td>\n",
       "      <td>...</td>\n",
       "    </tr>\n",
       "    <tr>\n",
       "      <th>19969</th>\n",
       "      <td>Toyota Platinum Etios 1.4 GXD</td>\n",
       "      <td>6.5 Lakh*</td>\n",
       "      <td>NaN</td>\n",
       "      <td>2017</td>\n",
       "      <td>Dealer</td>\n",
       "      <td>69,480 kms</td>\n",
       "      <td>First Owner</td>\n",
       "      <td>Diesel</td>\n",
       "      <td>Manual</td>\n",
       "      <td>Mileage23.59 kmpl</td>\n",
       "      <td>Engine1364 CC</td>\n",
       "      <td>Max Power67.05 bhp</td>\n",
       "      <td>Seats5</td>\n",
       "    </tr>\n",
       "    <tr>\n",
       "      <th>19970</th>\n",
       "      <td>Maruti Ertiga BSIV VXI</td>\n",
       "      <td>9.25 Lakh*</td>\n",
       "      <td>NaN</td>\n",
       "      <td>2019</td>\n",
       "      <td>Dealer</td>\n",
       "      <td>18,000 kms</td>\n",
       "      <td>First Owner</td>\n",
       "      <td>Petrol</td>\n",
       "      <td>Manual</td>\n",
       "      <td>Mileage17.5 kmpl</td>\n",
       "      <td>Engine1373 CC</td>\n",
       "      <td>Max Power91.1 bhp</td>\n",
       "      <td>Seats7</td>\n",
       "    </tr>\n",
       "    <tr>\n",
       "      <th>19971</th>\n",
       "      <td>Skoda Rapid 1.5 TDI Elegance</td>\n",
       "      <td>4.25 Lakh*</td>\n",
       "      <td>NaN</td>\n",
       "      <td>2015</td>\n",
       "      <td>Dealer</td>\n",
       "      <td>67,000 kms</td>\n",
       "      <td>First Owner</td>\n",
       "      <td>Diesel</td>\n",
       "      <td>Manual</td>\n",
       "      <td>Mileage21.14 kmpl</td>\n",
       "      <td>Engine1498 CC</td>\n",
       "      <td>Max Power103.52 bhp</td>\n",
       "      <td>Seats5</td>\n",
       "    </tr>\n",
       "    <tr>\n",
       "      <th>19972</th>\n",
       "      <td>Mahindra XUV500 W6 2WD</td>\n",
       "      <td>12.25 Lakh*</td>\n",
       "      <td>New Car (On-Road Price) : Rs.17.83-24.91 Lakh*</td>\n",
       "      <td>2016</td>\n",
       "      <td>Dealer</td>\n",
       "      <td>38,00,000 kms</td>\n",
       "      <td>First Owner</td>\n",
       "      <td>Diesel</td>\n",
       "      <td>Manual</td>\n",
       "      <td>Mileage16.0 kmpl</td>\n",
       "      <td>Engine2179 CC</td>\n",
       "      <td>Max Power140 bhp</td>\n",
       "      <td>Seats7</td>\n",
       "    </tr>\n",
       "    <tr>\n",
       "      <th>19973</th>\n",
       "      <td>Honda City i-VTEC CVT VX</td>\n",
       "      <td>12 Lakh*</td>\n",
       "      <td>NaN</td>\n",
       "      <td>2019</td>\n",
       "      <td>Dealer</td>\n",
       "      <td>13,000 kms</td>\n",
       "      <td>First Owner</td>\n",
       "      <td>Petrol</td>\n",
       "      <td>Automatic</td>\n",
       "      <td>Mileage18.0 kmpl</td>\n",
       "      <td>Engine1497 CC</td>\n",
       "      <td>Max Power117.6 bhp</td>\n",
       "      <td>Seats5</td>\n",
       "    </tr>\n",
       "  </tbody>\n",
       "</table>\n",
       "<p>19974 rows × 13 columns</p>\n",
       "</div>"
      ],
      "text/plain": [
       "                                            full_name selling_price  \\\n",
       "0                                     Maruti Alto Std     1.2 Lakh*   \n",
       "1                              Hyundai Grand i10 Asta     5.5 Lakh*   \n",
       "2                                    Hyundai i20 Asta    2.15 Lakh*   \n",
       "3                       Maruti Alto K10 2010-2014 VXI    2.26 Lakh*   \n",
       "4      Ford Ecosport 2015-2021 1.5 TDCi Titanium BSIV     5.7 Lakh*   \n",
       "...                                               ...           ...   \n",
       "19969                   Toyota Platinum Etios 1.4 GXD     6.5 Lakh*   \n",
       "19970                          Maruti Ertiga BSIV VXI    9.25 Lakh*   \n",
       "19971                    Skoda Rapid 1.5 TDI Elegance    4.25 Lakh*   \n",
       "19972                          Mahindra XUV500 W6 2WD   12.25 Lakh*   \n",
       "19973                        Honda City i-VTEC CVT VX      12 Lakh*   \n",
       "\n",
       "                                            new_price  year seller_type  \\\n",
       "0                                                 NaN  2012  Individual   \n",
       "1        New Car (On-Road Price) : Rs.7.11-7.48 Lakh*  2016  Individual   \n",
       "2                                                 NaN  2010  Individual   \n",
       "3                                                 NaN  2012  Individual   \n",
       "4      New Car (On-Road Price) : Rs.10.14-13.79 Lakh*  2015      Dealer   \n",
       "...                                               ...   ...         ...   \n",
       "19969                                             NaN  2017      Dealer   \n",
       "19970                                             NaN  2019      Dealer   \n",
       "19971                                             NaN  2015      Dealer   \n",
       "19972  New Car (On-Road Price) : Rs.17.83-24.91 Lakh*  2016      Dealer   \n",
       "19973                                             NaN  2019      Dealer   \n",
       "\n",
       "           km_driven   owner_type fuel_type transmission_type  \\\n",
       "0       1,20,000 kms  First Owner    Petrol            Manual   \n",
       "1         20,000 kms  First Owner    Petrol            Manual   \n",
       "2         60,000 kms  First Owner    Petrol            Manual   \n",
       "3         37,000 kms  First Owner    Petrol            Manual   \n",
       "4         30,000 kms  First Owner    Diesel            Manual   \n",
       "...              ...          ...       ...               ...   \n",
       "19969     69,480 kms  First Owner    Diesel            Manual   \n",
       "19970     18,000 kms  First Owner    Petrol            Manual   \n",
       "19971     67,000 kms  First Owner    Diesel            Manual   \n",
       "19972  38,00,000 kms  First Owner    Diesel            Manual   \n",
       "19973     13,000 kms  First Owner    Petrol         Automatic   \n",
       "\n",
       "                 mileage         engine            max_power   seats  \n",
       "0       Mileage19.7 kmpl   Engine796 CC    Max Power46.3 bhp  Seats5  \n",
       "1       Mileage18.9 kmpl  Engine1197 CC      Max Power82 bhp  Seats5  \n",
       "2       Mileage17.0 kmpl  Engine1197 CC      Max Power80 bhp  Seats5  \n",
       "3      Mileage20.92 kmpl   Engine998 CC    Max Power67.1 bhp  Seats5  \n",
       "4      Mileage22.77 kmpl  Engine1498 CC   Max Power98.59 bhp  Seats5  \n",
       "...                  ...            ...                  ...     ...  \n",
       "19969  Mileage23.59 kmpl  Engine1364 CC   Max Power67.05 bhp  Seats5  \n",
       "19970   Mileage17.5 kmpl  Engine1373 CC    Max Power91.1 bhp  Seats7  \n",
       "19971  Mileage21.14 kmpl  Engine1498 CC  Max Power103.52 bhp  Seats5  \n",
       "19972   Mileage16.0 kmpl  Engine2179 CC     Max Power140 bhp  Seats7  \n",
       "19973   Mileage18.0 kmpl  Engine1497 CC   Max Power117.6 bhp  Seats5  \n",
       "\n",
       "[19974 rows x 13 columns]"
      ]
     },
     "execution_count": 2,
     "metadata": {},
     "output_type": "execute_result"
    }
   ],
   "source": [
    "df = pd.read_csv(\"cardekho_updated.csv\")\n",
    "df"
   ]
  },
  {
   "cell_type": "code",
   "execution_count": 3,
   "id": "6671fd2a",
   "metadata": {},
   "outputs": [
    {
     "name": "stdout",
     "output_type": "stream",
     "text": [
      "<class 'pandas.core.frame.DataFrame'>\n",
      "RangeIndex: 19974 entries, 0 to 19973\n",
      "Data columns (total 13 columns):\n",
      " #   Column             Non-Null Count  Dtype \n",
      "---  ------             --------------  ----- \n",
      " 0   full_name          19974 non-null  object\n",
      " 1   selling_price      19974 non-null  object\n",
      " 2   new_price          9564 non-null   object\n",
      " 3   year               19974 non-null  int64 \n",
      " 4   seller_type        19974 non-null  object\n",
      " 5   km_driven          19974 non-null  object\n",
      " 6   owner_type         19974 non-null  object\n",
      " 7   fuel_type          19974 non-null  object\n",
      " 8   transmission_type  19974 non-null  object\n",
      " 9   mileage            19814 non-null  object\n",
      " 10  engine             19864 non-null  object\n",
      " 11  max_power          19637 non-null  object\n",
      " 12  seats              19887 non-null  object\n",
      "dtypes: int64(1), object(12)\n",
      "memory usage: 2.0+ MB\n"
     ]
    }
   ],
   "source": [
    "df.info()"
   ]
  },
  {
   "cell_type": "code",
   "execution_count": 4,
   "id": "3ad309ff",
   "metadata": {},
   "outputs": [
    {
     "data": {
      "text/plain": [
       "full_name                0\n",
       "selling_price            0\n",
       "new_price            10410\n",
       "year                     0\n",
       "seller_type              0\n",
       "km_driven                0\n",
       "owner_type               0\n",
       "fuel_type                0\n",
       "transmission_type        0\n",
       "mileage                160\n",
       "engine                 110\n",
       "max_power              337\n",
       "seats                   87\n",
       "dtype: int64"
      ]
     },
     "execution_count": 4,
     "metadata": {},
     "output_type": "execute_result"
    }
   ],
   "source": [
    "df.isna().sum()"
   ]
  },
  {
   "cell_type": "code",
   "execution_count": 5,
   "id": "83334964",
   "metadata": {},
   "outputs": [
    {
     "data": {
      "text/plain": [
       "3321"
      ]
     },
     "execution_count": 5,
     "metadata": {},
     "output_type": "execute_result"
    }
   ],
   "source": [
    "df[\"full_name\"].nunique()"
   ]
  },
  {
   "cell_type": "code",
   "execution_count": 6,
   "id": "638a136b",
   "metadata": {},
   "outputs": [
    {
     "data": {
      "text/plain": [
       "3"
      ]
     },
     "execution_count": 6,
     "metadata": {},
     "output_type": "execute_result"
    }
   ],
   "source": [
    "df[\"seller_type\"].nunique()"
   ]
  },
  {
   "cell_type": "code",
   "execution_count": 7,
   "id": "3069ff17",
   "metadata": {},
   "outputs": [
    {
     "data": {
      "text/plain": [
       "1"
      ]
     },
     "execution_count": 7,
     "metadata": {},
     "output_type": "execute_result"
    }
   ],
   "source": [
    "df[\"owner_type\"].nunique()"
   ]
  },
  {
   "cell_type": "code",
   "execution_count": 8,
   "id": "0c10c73c",
   "metadata": {},
   "outputs": [
    {
     "data": {
      "text/plain": [
       "5"
      ]
     },
     "execution_count": 8,
     "metadata": {},
     "output_type": "execute_result"
    }
   ],
   "source": [
    "df[\"fuel_type\"].nunique()"
   ]
  },
  {
   "cell_type": "code",
   "execution_count": 9,
   "id": "8acc4c91",
   "metadata": {},
   "outputs": [
    {
     "data": {
      "text/plain": [
       "2"
      ]
     },
     "execution_count": 9,
     "metadata": {},
     "output_type": "execute_result"
    }
   ],
   "source": [
    "df[\"transmission_type\"].nunique()"
   ]
  },
  {
   "cell_type": "code",
   "execution_count": 10,
   "id": "06c66d71",
   "metadata": {},
   "outputs": [
    {
     "data": {
      "text/plain": [
       "array(['Seats5', 'Seats7', 'Seats8', 'Seats4', 'Seats6', nan, 'Seats2',\n",
       "       'Seats9', 'Seats10', 'Seats14'], dtype=object)"
      ]
     },
     "execution_count": 10,
     "metadata": {},
     "output_type": "execute_result"
    }
   ],
   "source": [
    "df[\"seats\"].unique()"
   ]
  },
  {
   "cell_type": "code",
   "execution_count": 11,
   "id": "95d5013e",
   "metadata": {},
   "outputs": [],
   "source": [
    "def clean_sp(column):\n",
    "    l1=[]\n",
    "    for i in df[column]:\n",
    "        x = i.replace(\"Lakh\",\"\").replace(\"*\",\"\").replace(\" \",\"\").replace(\",\",\"\").replace(\"Cr\",\"\")\n",
    "        if float(x)>100:\n",
    "            num = (float(x)/100000)\n",
    "            l1.append(float(num))\n",
    "        else:\n",
    "            l1.append(float(x))\n",
    "    new_price = np.array(l1)\n",
    "    df[column]=new_price\n",
    "clean_sp(\"selling_price\")"
   ]
  },
  {
   "cell_type": "code",
   "execution_count": 12,
   "id": "0bccd6d9",
   "metadata": {},
   "outputs": [
    {
     "name": "stdout",
     "output_type": "stream",
     "text": [
      "<class 'pandas.core.frame.DataFrame'>\n",
      "RangeIndex: 19974 entries, 0 to 19973\n",
      "Data columns (total 13 columns):\n",
      " #   Column             Non-Null Count  Dtype  \n",
      "---  ------             --------------  -----  \n",
      " 0   full_name          19974 non-null  object \n",
      " 1   selling_price      19974 non-null  float64\n",
      " 2   new_price          9564 non-null   object \n",
      " 3   year               19974 non-null  int64  \n",
      " 4   seller_type        19974 non-null  object \n",
      " 5   km_driven          19974 non-null  object \n",
      " 6   owner_type         19974 non-null  object \n",
      " 7   fuel_type          19974 non-null  object \n",
      " 8   transmission_type  19974 non-null  object \n",
      " 9   mileage            19814 non-null  object \n",
      " 10  engine             19864 non-null  object \n",
      " 11  max_power          19637 non-null  object \n",
      " 12  seats              19887 non-null  object \n",
      "dtypes: float64(1), int64(1), object(11)\n",
      "memory usage: 2.0+ MB\n"
     ]
    }
   ],
   "source": [
    "df.info()"
   ]
  },
  {
   "cell_type": "code",
   "execution_count": 13,
   "id": "b558108a",
   "metadata": {},
   "outputs": [],
   "source": [
    "df.drop(\"new_price\",axis=1,inplace=True)"
   ]
  },
  {
   "cell_type": "code",
   "execution_count": 14,
   "id": "7f4305d4",
   "metadata": {},
   "outputs": [
    {
     "data": {
      "text/plain": [
       "array(['Individual', 'Dealer', 'Trustmark Dealer'], dtype=object)"
      ]
     },
     "execution_count": 14,
     "metadata": {},
     "output_type": "execute_result"
    }
   ],
   "source": [
    "df[\"seller_type\"].unique()"
   ]
  },
  {
   "cell_type": "code",
   "execution_count": 15,
   "id": "433996cc",
   "metadata": {},
   "outputs": [],
   "source": [
    "df[\"seller_type\"].replace({\"Individual\":0,\"Dealer\":1,\"Trustmark Dealer\":2},inplace=True)"
   ]
  },
  {
   "cell_type": "code",
   "execution_count": 16,
   "id": "72c7c2e9",
   "metadata": {},
   "outputs": [],
   "source": [
    "def km_clean(column):\n",
    "    l= []\n",
    "    for i in df[column]:\n",
    "        new = i.replace(\",\",\"\").replace(\"kms\",\"\")\n",
    "        l.append(int(new))\n",
    "    new_array = np.array(l)\n",
    "    df[column] = new_array\n",
    "km_clean(\"km_driven\")"
   ]
  },
  {
   "cell_type": "code",
   "execution_count": 17,
   "id": "e5f2832e",
   "metadata": {},
   "outputs": [],
   "source": [
    "df.drop(\"owner_type\",axis=1,inplace=True)"
   ]
  },
  {
   "cell_type": "code",
   "execution_count": 18,
   "id": "4884e8ca",
   "metadata": {},
   "outputs": [
    {
     "data": {
      "text/plain": [
       "array(['Petrol', 'Diesel', 'CNG', 'LPG', 'Electric'], dtype=object)"
      ]
     },
     "execution_count": 18,
     "metadata": {},
     "output_type": "execute_result"
    }
   ],
   "source": [
    "df[\"fuel_type\"].unique()"
   ]
  },
  {
   "cell_type": "code",
   "execution_count": 19,
   "id": "57658c0b",
   "metadata": {},
   "outputs": [],
   "source": [
    "df[\"fuel_type\"].replace({'Petrol':1, 'Diesel':2, 'CNG':3, 'LPG':4, 'Electric':5},inplace=True)"
   ]
  },
  {
   "cell_type": "code",
   "execution_count": 20,
   "id": "ccb356de",
   "metadata": {},
   "outputs": [
    {
     "data": {
      "text/plain": [
       "array(['Manual', 'Automatic'], dtype=object)"
      ]
     },
     "execution_count": 20,
     "metadata": {},
     "output_type": "execute_result"
    }
   ],
   "source": [
    "df[\"transmission_type\"].unique()"
   ]
  },
  {
   "cell_type": "code",
   "execution_count": 21,
   "id": "eb7d52da",
   "metadata": {},
   "outputs": [],
   "source": [
    "df[\"transmission_type\"].replace({'Manual':1, 'Automatic':2},inplace=True)"
   ]
  },
  {
   "cell_type": "code",
   "execution_count": 22,
   "id": "55e7e4db",
   "metadata": {},
   "outputs": [],
   "source": [
    "df[\"seats\"].replace({'Seats5':5, 'Seats7':7, 'Seats8':8, 'Seats4':4, 'Seats6':6,'Seats2':2,\n",
    "       'Seats9':9, 'Seats10':10, 'Seats14':14},inplace=True)"
   ]
  },
  {
   "cell_type": "code",
   "execution_count": 23,
   "id": "7436545b",
   "metadata": {},
   "outputs": [
    {
     "data": {
      "text/plain": [
       "5.319806909036053"
      ]
     },
     "execution_count": 23,
     "metadata": {},
     "output_type": "execute_result"
    }
   ],
   "source": [
    "median = df[\"seats\"].mean()\n",
    "median"
   ]
  },
  {
   "cell_type": "code",
   "execution_count": 24,
   "id": "681561d3",
   "metadata": {},
   "outputs": [],
   "source": [
    "df[\"seats\"].fillna(median,inplace=True)"
   ]
  },
  {
   "cell_type": "code",
   "execution_count": 25,
   "id": "e0f78d72",
   "metadata": {
    "scrolled": true
   },
   "outputs": [
    {
     "name": "stdout",
     "output_type": "stream",
     "text": [
      "<class 'pandas.core.frame.DataFrame'>\n",
      "RangeIndex: 19974 entries, 0 to 19973\n",
      "Data columns (total 11 columns):\n",
      " #   Column             Non-Null Count  Dtype  \n",
      "---  ------             --------------  -----  \n",
      " 0   full_name          19974 non-null  object \n",
      " 1   selling_price      19974 non-null  float64\n",
      " 2   year               19974 non-null  int64  \n",
      " 3   seller_type        19974 non-null  int64  \n",
      " 4   km_driven          19974 non-null  int32  \n",
      " 5   fuel_type          19974 non-null  int64  \n",
      " 6   transmission_type  19974 non-null  int64  \n",
      " 7   mileage            19814 non-null  object \n",
      " 8   engine             19864 non-null  object \n",
      " 9   max_power          19637 non-null  object \n",
      " 10  seats              19974 non-null  float64\n",
      "dtypes: float64(2), int32(1), int64(4), object(4)\n",
      "memory usage: 1.6+ MB\n"
     ]
    }
   ],
   "source": [
    "df.info()"
   ]
  },
  {
   "cell_type": "code",
   "execution_count": 26,
   "id": "ec0754a5",
   "metadata": {},
   "outputs": [],
   "source": [
    "def clean_mil(column):\n",
    "    l1= []\n",
    "    for i in df[column]:\n",
    "        if type(i)==str:\n",
    "            new = i.replace(\"Mileage\",\"\").replace(\"kmpl\",\"\").replace(\"km/kg\",\"\").replace(\"km/hr\",\"\")\n",
    "            l1.append(float(new))\n",
    "        else:\n",
    "            l1.append(i)\n",
    "    new = np.array(l1)\n",
    "    df[column] = new\n",
    "clean_mil(\"mileage\")"
   ]
  },
  {
   "cell_type": "code",
   "execution_count": 27,
   "id": "df499aa1",
   "metadata": {},
   "outputs": [
    {
     "data": {
      "text/html": [
       "<div>\n",
       "<style scoped>\n",
       "    .dataframe tbody tr th:only-of-type {\n",
       "        vertical-align: middle;\n",
       "    }\n",
       "\n",
       "    .dataframe tbody tr th {\n",
       "        vertical-align: top;\n",
       "    }\n",
       "\n",
       "    .dataframe thead th {\n",
       "        text-align: right;\n",
       "    }\n",
       "</style>\n",
       "<table border=\"1\" class=\"dataframe\">\n",
       "  <thead>\n",
       "    <tr style=\"text-align: right;\">\n",
       "      <th></th>\n",
       "      <th>full_name</th>\n",
       "      <th>selling_price</th>\n",
       "      <th>year</th>\n",
       "      <th>seller_type</th>\n",
       "      <th>km_driven</th>\n",
       "      <th>fuel_type</th>\n",
       "      <th>transmission_type</th>\n",
       "      <th>mileage</th>\n",
       "      <th>engine</th>\n",
       "      <th>max_power</th>\n",
       "      <th>seats</th>\n",
       "    </tr>\n",
       "  </thead>\n",
       "  <tbody>\n",
       "    <tr>\n",
       "      <th>0</th>\n",
       "      <td>Maruti Alto Std</td>\n",
       "      <td>1.20</td>\n",
       "      <td>2012</td>\n",
       "      <td>0</td>\n",
       "      <td>120000</td>\n",
       "      <td>1</td>\n",
       "      <td>1</td>\n",
       "      <td>19.70</td>\n",
       "      <td>Engine796 CC</td>\n",
       "      <td>Max Power46.3 bhp</td>\n",
       "      <td>5.0</td>\n",
       "    </tr>\n",
       "    <tr>\n",
       "      <th>1</th>\n",
       "      <td>Hyundai Grand i10 Asta</td>\n",
       "      <td>5.50</td>\n",
       "      <td>2016</td>\n",
       "      <td>0</td>\n",
       "      <td>20000</td>\n",
       "      <td>1</td>\n",
       "      <td>1</td>\n",
       "      <td>18.90</td>\n",
       "      <td>Engine1197 CC</td>\n",
       "      <td>Max Power82 bhp</td>\n",
       "      <td>5.0</td>\n",
       "    </tr>\n",
       "    <tr>\n",
       "      <th>2</th>\n",
       "      <td>Hyundai i20 Asta</td>\n",
       "      <td>2.15</td>\n",
       "      <td>2010</td>\n",
       "      <td>0</td>\n",
       "      <td>60000</td>\n",
       "      <td>1</td>\n",
       "      <td>1</td>\n",
       "      <td>17.00</td>\n",
       "      <td>Engine1197 CC</td>\n",
       "      <td>Max Power80 bhp</td>\n",
       "      <td>5.0</td>\n",
       "    </tr>\n",
       "    <tr>\n",
       "      <th>3</th>\n",
       "      <td>Maruti Alto K10 2010-2014 VXI</td>\n",
       "      <td>2.26</td>\n",
       "      <td>2012</td>\n",
       "      <td>0</td>\n",
       "      <td>37000</td>\n",
       "      <td>1</td>\n",
       "      <td>1</td>\n",
       "      <td>20.92</td>\n",
       "      <td>Engine998 CC</td>\n",
       "      <td>Max Power67.1 bhp</td>\n",
       "      <td>5.0</td>\n",
       "    </tr>\n",
       "    <tr>\n",
       "      <th>4</th>\n",
       "      <td>Ford Ecosport 2015-2021 1.5 TDCi Titanium BSIV</td>\n",
       "      <td>5.70</td>\n",
       "      <td>2015</td>\n",
       "      <td>1</td>\n",
       "      <td>30000</td>\n",
       "      <td>2</td>\n",
       "      <td>1</td>\n",
       "      <td>22.77</td>\n",
       "      <td>Engine1498 CC</td>\n",
       "      <td>Max Power98.59 bhp</td>\n",
       "      <td>5.0</td>\n",
       "    </tr>\n",
       "    <tr>\n",
       "      <th>...</th>\n",
       "      <td>...</td>\n",
       "      <td>...</td>\n",
       "      <td>...</td>\n",
       "      <td>...</td>\n",
       "      <td>...</td>\n",
       "      <td>...</td>\n",
       "      <td>...</td>\n",
       "      <td>...</td>\n",
       "      <td>...</td>\n",
       "      <td>...</td>\n",
       "      <td>...</td>\n",
       "    </tr>\n",
       "    <tr>\n",
       "      <th>19969</th>\n",
       "      <td>Toyota Platinum Etios 1.4 GXD</td>\n",
       "      <td>6.50</td>\n",
       "      <td>2017</td>\n",
       "      <td>1</td>\n",
       "      <td>69480</td>\n",
       "      <td>2</td>\n",
       "      <td>1</td>\n",
       "      <td>23.59</td>\n",
       "      <td>Engine1364 CC</td>\n",
       "      <td>Max Power67.05 bhp</td>\n",
       "      <td>5.0</td>\n",
       "    </tr>\n",
       "    <tr>\n",
       "      <th>19970</th>\n",
       "      <td>Maruti Ertiga BSIV VXI</td>\n",
       "      <td>9.25</td>\n",
       "      <td>2019</td>\n",
       "      <td>1</td>\n",
       "      <td>18000</td>\n",
       "      <td>1</td>\n",
       "      <td>1</td>\n",
       "      <td>17.50</td>\n",
       "      <td>Engine1373 CC</td>\n",
       "      <td>Max Power91.1 bhp</td>\n",
       "      <td>7.0</td>\n",
       "    </tr>\n",
       "    <tr>\n",
       "      <th>19971</th>\n",
       "      <td>Skoda Rapid 1.5 TDI Elegance</td>\n",
       "      <td>4.25</td>\n",
       "      <td>2015</td>\n",
       "      <td>1</td>\n",
       "      <td>67000</td>\n",
       "      <td>2</td>\n",
       "      <td>1</td>\n",
       "      <td>21.14</td>\n",
       "      <td>Engine1498 CC</td>\n",
       "      <td>Max Power103.52 bhp</td>\n",
       "      <td>5.0</td>\n",
       "    </tr>\n",
       "    <tr>\n",
       "      <th>19972</th>\n",
       "      <td>Mahindra XUV500 W6 2WD</td>\n",
       "      <td>12.25</td>\n",
       "      <td>2016</td>\n",
       "      <td>1</td>\n",
       "      <td>3800000</td>\n",
       "      <td>2</td>\n",
       "      <td>1</td>\n",
       "      <td>16.00</td>\n",
       "      <td>Engine2179 CC</td>\n",
       "      <td>Max Power140 bhp</td>\n",
       "      <td>7.0</td>\n",
       "    </tr>\n",
       "    <tr>\n",
       "      <th>19973</th>\n",
       "      <td>Honda City i-VTEC CVT VX</td>\n",
       "      <td>12.00</td>\n",
       "      <td>2019</td>\n",
       "      <td>1</td>\n",
       "      <td>13000</td>\n",
       "      <td>1</td>\n",
       "      <td>2</td>\n",
       "      <td>18.00</td>\n",
       "      <td>Engine1497 CC</td>\n",
       "      <td>Max Power117.6 bhp</td>\n",
       "      <td>5.0</td>\n",
       "    </tr>\n",
       "  </tbody>\n",
       "</table>\n",
       "<p>19974 rows × 11 columns</p>\n",
       "</div>"
      ],
      "text/plain": [
       "                                            full_name  selling_price  year  \\\n",
       "0                                     Maruti Alto Std           1.20  2012   \n",
       "1                              Hyundai Grand i10 Asta           5.50  2016   \n",
       "2                                    Hyundai i20 Asta           2.15  2010   \n",
       "3                       Maruti Alto K10 2010-2014 VXI           2.26  2012   \n",
       "4      Ford Ecosport 2015-2021 1.5 TDCi Titanium BSIV           5.70  2015   \n",
       "...                                               ...            ...   ...   \n",
       "19969                   Toyota Platinum Etios 1.4 GXD           6.50  2017   \n",
       "19970                          Maruti Ertiga BSIV VXI           9.25  2019   \n",
       "19971                    Skoda Rapid 1.5 TDI Elegance           4.25  2015   \n",
       "19972                          Mahindra XUV500 W6 2WD          12.25  2016   \n",
       "19973                        Honda City i-VTEC CVT VX          12.00  2019   \n",
       "\n",
       "       seller_type  km_driven  fuel_type  transmission_type  mileage  \\\n",
       "0                0     120000          1                  1    19.70   \n",
       "1                0      20000          1                  1    18.90   \n",
       "2                0      60000          1                  1    17.00   \n",
       "3                0      37000          1                  1    20.92   \n",
       "4                1      30000          2                  1    22.77   \n",
       "...            ...        ...        ...                ...      ...   \n",
       "19969            1      69480          2                  1    23.59   \n",
       "19970            1      18000          1                  1    17.50   \n",
       "19971            1      67000          2                  1    21.14   \n",
       "19972            1    3800000          2                  1    16.00   \n",
       "19973            1      13000          1                  2    18.00   \n",
       "\n",
       "              engine            max_power  seats  \n",
       "0       Engine796 CC    Max Power46.3 bhp    5.0  \n",
       "1      Engine1197 CC      Max Power82 bhp    5.0  \n",
       "2      Engine1197 CC      Max Power80 bhp    5.0  \n",
       "3       Engine998 CC    Max Power67.1 bhp    5.0  \n",
       "4      Engine1498 CC   Max Power98.59 bhp    5.0  \n",
       "...              ...                  ...    ...  \n",
       "19969  Engine1364 CC   Max Power67.05 bhp    5.0  \n",
       "19970  Engine1373 CC    Max Power91.1 bhp    7.0  \n",
       "19971  Engine1498 CC  Max Power103.52 bhp    5.0  \n",
       "19972  Engine2179 CC     Max Power140 bhp    7.0  \n",
       "19973  Engine1497 CC   Max Power117.6 bhp    5.0  \n",
       "\n",
       "[19974 rows x 11 columns]"
      ]
     },
     "execution_count": 27,
     "metadata": {},
     "output_type": "execute_result"
    }
   ],
   "source": [
    "df"
   ]
  },
  {
   "cell_type": "code",
   "execution_count": 28,
   "id": "190c99aa",
   "metadata": {},
   "outputs": [],
   "source": [
    "def clean_engine(column):\n",
    "    l1= []\n",
    "    for i in df[column]:\n",
    "        if type(i)==str:\n",
    "            new = i.replace(\"Engine\",\"\").replace(\"CC\",\"\")\n",
    "            l1.append(float(new))\n",
    "        else:\n",
    "            l1.append(i)\n",
    "    new = np.array(l1)\n",
    "    df[column] = new\n",
    "clean_engine(\"engine\")\n"
   ]
  },
  {
   "cell_type": "code",
   "execution_count": 29,
   "id": "5e5f95d9",
   "metadata": {},
   "outputs": [],
   "source": [
    "def clean_power(column):\n",
    "    l1= []\n",
    "    for i in df[column]:\n",
    "        if type(i)==str:\n",
    "            new = i.replace(\"Max Power\",\"\").replace(\"bhp\",\"\")\n",
    "            l1.append(float(new))\n",
    "        else:\n",
    "            l1.append(i)\n",
    "    new = np.array(l1)\n",
    "    df[column] = new\n",
    "clean_power(\"max_power\")"
   ]
  },
  {
   "cell_type": "code",
   "execution_count": 30,
   "id": "1ce4a23a",
   "metadata": {},
   "outputs": [
    {
     "data": {
      "text/plain": [
       "full_name              0\n",
       "selling_price          0\n",
       "year                   0\n",
       "seller_type            0\n",
       "km_driven              0\n",
       "fuel_type              0\n",
       "transmission_type      0\n",
       "mileage              160\n",
       "engine               110\n",
       "max_power            337\n",
       "seats                  0\n",
       "dtype: int64"
      ]
     },
     "execution_count": 30,
     "metadata": {},
     "output_type": "execute_result"
    }
   ],
   "source": [
    "df.isna().sum()"
   ]
  },
  {
   "cell_type": "code",
   "execution_count": 31,
   "id": "7fd07183",
   "metadata": {},
   "outputs": [
    {
     "data": {
      "text/plain": [
       "86.8"
      ]
     },
     "execution_count": 31,
     "metadata": {},
     "output_type": "execute_result"
    }
   ],
   "source": [
    "mig_med = df[\"mileage\"].median()\n",
    "engine_med = df[\"engine\"].median()\n",
    "power_med = df[\"max_power\"].median()\n",
    "power_med"
   ]
  },
  {
   "cell_type": "code",
   "execution_count": 32,
   "id": "ff9b7a6a",
   "metadata": {},
   "outputs": [
    {
     "data": {
      "text/plain": [
       "99.448761776246"
      ]
     },
     "execution_count": 32,
     "metadata": {},
     "output_type": "execute_result"
    }
   ],
   "source": [
    "mig_mean = df[\"mileage\"].mean()\n",
    "mig_mean\n",
    "engine_mean = df[\"engine\"].mean()\n",
    "engine_mean\n",
    "power_mean = df[\"max_power\"].mean()\n",
    "power_mean"
   ]
  },
  {
   "cell_type": "code",
   "execution_count": 33,
   "id": "a1e80b97",
   "metadata": {},
   "outputs": [],
   "source": [
    "df[\"mileage\"].fillna(mig_mean,inplace=True)\n",
    "df[\"engine\"].fillna(engine_mean,inplace=True)\n",
    "df[\"max_power\"].fillna(power_mean,inplace=True)"
   ]
  },
  {
   "cell_type": "code",
   "execution_count": 34,
   "id": "5cc14a5f",
   "metadata": {},
   "outputs": [
    {
     "data": {
      "text/plain": [
       "<AxesSubplot:>"
      ]
     },
     "execution_count": 34,
     "metadata": {},
     "output_type": "execute_result"
    },
    {
     "data": {
      "image/png": "[encoded data removed]",
      "text/plain": [
       "<Figure size 1440x720 with 2 Axes>"
      ]
     },
     "metadata": {
      "needs_background": "light"
     },
     "output_type": "display_data"
    }
   ],
   "source": [
    "plt.figure(figsize=(20,10))\n",
    "corr = df.corr()\n",
    "sns.heatmap(data = corr,annot=True)"
   ]
  },
  {
   "cell_type": "code",
   "execution_count": 35,
   "id": "885896dc",
   "metadata": {
    "scrolled": true
   },
   "outputs": [],
   "source": [
    "# sns.pairplot(df,hue=\"selling_price\")"
   ]
  },
  {
   "cell_type": "code",
   "execution_count": 36,
   "id": "920aa7ac",
   "metadata": {},
   "outputs": [],
   "source": [
    "# df = pd.get_dummies(df,columns=[\"full_name\"])\n",
    "# df"
   ]
  },
  {
   "cell_type": "code",
   "execution_count": 37,
   "id": "8428116c",
   "metadata": {},
   "outputs": [
    {
     "data": {
      "text/html": [
       "<div>\n",
       "<style scoped>\n",
       "    .dataframe tbody tr th:only-of-type {\n",
       "        vertical-align: middle;\n",
       "    }\n",
       "\n",
       "    .dataframe tbody tr th {\n",
       "        vertical-align: top;\n",
       "    }\n",
       "\n",
       "    .dataframe thead th {\n",
       "        text-align: right;\n",
       "    }\n",
       "</style>\n",
       "<table border=\"1\" class=\"dataframe\">\n",
       "  <thead>\n",
       "    <tr style=\"text-align: right;\">\n",
       "      <th></th>\n",
       "      <th>selling_price</th>\n",
       "      <th>year</th>\n",
       "      <th>seller_type</th>\n",
       "      <th>km_driven</th>\n",
       "      <th>fuel_type</th>\n",
       "      <th>transmission_type</th>\n",
       "      <th>mileage</th>\n",
       "      <th>engine</th>\n",
       "      <th>max_power</th>\n",
       "      <th>seats</th>\n",
       "    </tr>\n",
       "  </thead>\n",
       "  <tbody>\n",
       "    <tr>\n",
       "      <th>0</th>\n",
       "      <td>1.20</td>\n",
       "      <td>2012</td>\n",
       "      <td>0</td>\n",
       "      <td>120000</td>\n",
       "      <td>1</td>\n",
       "      <td>1</td>\n",
       "      <td>19.70</td>\n",
       "      <td>796.0</td>\n",
       "      <td>46.30</td>\n",
       "      <td>5.0</td>\n",
       "    </tr>\n",
       "    <tr>\n",
       "      <th>1</th>\n",
       "      <td>5.50</td>\n",
       "      <td>2016</td>\n",
       "      <td>0</td>\n",
       "      <td>20000</td>\n",
       "      <td>1</td>\n",
       "      <td>1</td>\n",
       "      <td>18.90</td>\n",
       "      <td>1197.0</td>\n",
       "      <td>82.00</td>\n",
       "      <td>5.0</td>\n",
       "    </tr>\n",
       "    <tr>\n",
       "      <th>2</th>\n",
       "      <td>2.15</td>\n",
       "      <td>2010</td>\n",
       "      <td>0</td>\n",
       "      <td>60000</td>\n",
       "      <td>1</td>\n",
       "      <td>1</td>\n",
       "      <td>17.00</td>\n",
       "      <td>1197.0</td>\n",
       "      <td>80.00</td>\n",
       "      <td>5.0</td>\n",
       "    </tr>\n",
       "    <tr>\n",
       "      <th>3</th>\n",
       "      <td>2.26</td>\n",
       "      <td>2012</td>\n",
       "      <td>0</td>\n",
       "      <td>37000</td>\n",
       "      <td>1</td>\n",
       "      <td>1</td>\n",
       "      <td>20.92</td>\n",
       "      <td>998.0</td>\n",
       "      <td>67.10</td>\n",
       "      <td>5.0</td>\n",
       "    </tr>\n",
       "    <tr>\n",
       "      <th>4</th>\n",
       "      <td>5.70</td>\n",
       "      <td>2015</td>\n",
       "      <td>1</td>\n",
       "      <td>30000</td>\n",
       "      <td>2</td>\n",
       "      <td>1</td>\n",
       "      <td>22.77</td>\n",
       "      <td>1498.0</td>\n",
       "      <td>98.59</td>\n",
       "      <td>5.0</td>\n",
       "    </tr>\n",
       "    <tr>\n",
       "      <th>...</th>\n",
       "      <td>...</td>\n",
       "      <td>...</td>\n",
       "      <td>...</td>\n",
       "      <td>...</td>\n",
       "      <td>...</td>\n",
       "      <td>...</td>\n",
       "      <td>...</td>\n",
       "      <td>...</td>\n",
       "      <td>...</td>\n",
       "      <td>...</td>\n",
       "    </tr>\n",
       "    <tr>\n",
       "      <th>19969</th>\n",
       "      <td>6.50</td>\n",
       "      <td>2017</td>\n",
       "      <td>1</td>\n",
       "      <td>69480</td>\n",
       "      <td>2</td>\n",
       "      <td>1</td>\n",
       "      <td>23.59</td>\n",
       "      <td>1364.0</td>\n",
       "      <td>67.05</td>\n",
       "      <td>5.0</td>\n",
       "    </tr>\n",
       "    <tr>\n",
       "      <th>19970</th>\n",
       "      <td>9.25</td>\n",
       "      <td>2019</td>\n",
       "      <td>1</td>\n",
       "      <td>18000</td>\n",
       "      <td>1</td>\n",
       "      <td>1</td>\n",
       "      <td>17.50</td>\n",
       "      <td>1373.0</td>\n",
       "      <td>91.10</td>\n",
       "      <td>7.0</td>\n",
       "    </tr>\n",
       "    <tr>\n",
       "      <th>19971</th>\n",
       "      <td>4.25</td>\n",
       "      <td>2015</td>\n",
       "      <td>1</td>\n",
       "      <td>67000</td>\n",
       "      <td>2</td>\n",
       "      <td>1</td>\n",
       "      <td>21.14</td>\n",
       "      <td>1498.0</td>\n",
       "      <td>103.52</td>\n",
       "      <td>5.0</td>\n",
       "    </tr>\n",
       "    <tr>\n",
       "      <th>19972</th>\n",
       "      <td>12.25</td>\n",
       "      <td>2016</td>\n",
       "      <td>1</td>\n",
       "      <td>3800000</td>\n",
       "      <td>2</td>\n",
       "      <td>1</td>\n",
       "      <td>16.00</td>\n",
       "      <td>2179.0</td>\n",
       "      <td>140.00</td>\n",
       "      <td>7.0</td>\n",
       "    </tr>\n",
       "    <tr>\n",
       "      <th>19973</th>\n",
       "      <td>12.00</td>\n",
       "      <td>2019</td>\n",
       "      <td>1</td>\n",
       "      <td>13000</td>\n",
       "      <td>1</td>\n",
       "      <td>2</td>\n",
       "      <td>18.00</td>\n",
       "      <td>1497.0</td>\n",
       "      <td>117.60</td>\n",
       "      <td>5.0</td>\n",
       "    </tr>\n",
       "  </tbody>\n",
       "</table>\n",
       "<p>19974 rows × 10 columns</p>\n",
       "</div>"
      ],
      "text/plain": [
       "       selling_price  year  seller_type  km_driven  fuel_type  \\\n",
       "0               1.20  2012            0     120000          1   \n",
       "1               5.50  2016            0      20000          1   \n",
       "2               2.15  2010            0      60000          1   \n",
       "3               2.26  2012            0      37000          1   \n",
       "4               5.70  2015            1      30000          2   \n",
       "...              ...   ...          ...        ...        ...   \n",
       "19969           6.50  2017            1      69480          2   \n",
       "19970           9.25  2019            1      18000          1   \n",
       "19971           4.25  2015            1      67000          2   \n",
       "19972          12.25  2016            1    3800000          2   \n",
       "19973          12.00  2019            1      13000          1   \n",
       "\n",
       "       transmission_type  mileage  engine  max_power  seats  \n",
       "0                      1    19.70   796.0      46.30    5.0  \n",
       "1                      1    18.90  1197.0      82.00    5.0  \n",
       "2                      1    17.00  1197.0      80.00    5.0  \n",
       "3                      1    20.92   998.0      67.10    5.0  \n",
       "4                      1    22.77  1498.0      98.59    5.0  \n",
       "...                  ...      ...     ...        ...    ...  \n",
       "19969                  1    23.59  1364.0      67.05    5.0  \n",
       "19970                  1    17.50  1373.0      91.10    7.0  \n",
       "19971                  1    21.14  1498.0     103.52    5.0  \n",
       "19972                  1    16.00  2179.0     140.00    7.0  \n",
       "19973                  2    18.00  1497.0     117.60    5.0  \n",
       "\n",
       "[19974 rows x 10 columns]"
      ]
     },
     "execution_count": 37,
     "metadata": {},
     "output_type": "execute_result"
    }
   ],
   "source": [
    "df = df.drop(\"full_name\",axis=1)\n",
    "df"
   ]
  },
  {
   "cell_type": "code",
   "execution_count": 38,
   "id": "ae8f05df",
   "metadata": {},
   "outputs": [],
   "source": [
    "x= df.drop(\"selling_price\",axis=1)\n",
    "y= df[\"selling_price\"]"
   ]
  },
  {
   "cell_type": "code",
   "execution_count": 39,
   "id": "f4eaa285",
   "metadata": {},
   "outputs": [],
   "source": [
    "x_train,x_test,y_train,y_test = train_test_split(x,y,test_size=0.2,random_state=10)"
   ]
  },
  {
   "cell_type": "markdown",
   "id": "045da6ec",
   "metadata": {},
   "source": [
    "## Linear Regression"
   ]
  },
  {
   "cell_type": "code",
   "execution_count": 40,
   "id": "8ee5f0e7",
   "metadata": {},
   "outputs": [
    {
     "data": {
      "text/plain": [
       "LinearRegression()"
      ]
     },
     "execution_count": 40,
     "metadata": {},
     "output_type": "execute_result"
    }
   ],
   "source": [
    "Lin_reg = LinearRegression()\n",
    "Lin_reg.fit(x_train,y_train)"
   ]
  },
  {
   "cell_type": "code",
   "execution_count": 41,
   "id": "4d1f67d2",
   "metadata": {},
   "outputs": [
    {
     "name": "stdout",
     "output_type": "stream",
     "text": [
      "Testing data evalution\n",
      "************************************************** \n",
      "mse:- 2.479994965606078 \n",
      "************************************************** \n",
      "rmse:- 1.5747999763798823 \n",
      "**************************************************  \n",
      "mae :- 2.479994965606078 \n",
      "**************************************************  \n",
      "r2:- 0.6596229114355654 \n",
      "************************************************** \n"
     ]
    }
   ],
   "source": [
    "score = Calculation(Lin_reg,x_train,x_test,y_train,y_test)\n",
    "score.testing()"
   ]
  },
  {
   "cell_type": "code",
   "execution_count": 42,
   "id": "eec9948d",
   "metadata": {},
   "outputs": [
    {
     "name": "stdout",
     "output_type": "stream",
     "text": [
      "Training data evalution\n",
      "************************************************** \n",
      "mse:- 2.5596035043293 \n",
      "************************************************** \n",
      "rmse:- 1.5998760903049023 \n",
      "************************************************** \n",
      "mae :- 2.5596035043293  \n",
      "************************************************** \n",
      "r2:- 0.6416496145246933 \n",
      "**************************************************\n"
     ]
    }
   ],
   "source": [
    "score.training()"
   ]
  },
  {
   "cell_type": "markdown",
   "id": "1bebbe29",
   "metadata": {},
   "source": [
    "## Decision Tree"
   ]
  },
  {
   "cell_type": "code",
   "execution_count": 43,
   "id": "2523292b",
   "metadata": {},
   "outputs": [
    {
     "data": {
      "text/plain": [
       "DecisionTreeRegressor()"
      ]
     },
     "execution_count": 43,
     "metadata": {},
     "output_type": "execute_result"
    }
   ],
   "source": [
    "model_dt = DecisionTreeRegressor()\n",
    "model_dt.fit(x_train,y_train)"
   ]
  },
  {
   "cell_type": "code",
   "execution_count": 44,
   "id": "d4930fd5",
   "metadata": {},
   "outputs": [],
   "source": [
    "dt_score = Calculation(model_dt,x_train,x_test,y_train,y_test)"
   ]
  },
  {
   "cell_type": "code",
   "execution_count": 45,
   "id": "0e6df05c",
   "metadata": {},
   "outputs": [
    {
     "name": "stdout",
     "output_type": "stream",
     "text": [
      "Testing data evalution\n",
      "************************************************** \n",
      "mse:- 1.2920332206925325 \n",
      "************************************************** \n",
      "rmse:- 1.1366763922473857 \n",
      "**************************************************  \n",
      "mae :- 1.2920332206925325 \n",
      "**************************************************  \n",
      "r2:- 0.8298216895763342 \n",
      "************************************************** \n"
     ]
    }
   ],
   "source": [
    "dt_score.testing()"
   ]
  },
  {
   "cell_type": "code",
   "execution_count": 46,
   "id": "c5387bd0",
   "metadata": {},
   "outputs": [
    {
     "name": "stdout",
     "output_type": "stream",
     "text": [
      "Training data evalution\n",
      "************************************************** \n",
      "mse:- 0.045103783716127416 \n",
      "************************************************** \n",
      "rmse:- 0.21237651404081248 \n",
      "************************************************** \n",
      "mae :- 0.045103783716127416  \n",
      "************************************************** \n",
      "r2:- 0.9994759290267068 \n",
      "**************************************************\n"
     ]
    }
   ],
   "source": [
    "dt_score.training()"
   ]
  },
  {
   "cell_type": "markdown",
   "id": "bd27bb76",
   "metadata": {},
   "source": [
    "## DT with Hyperparameter Tunning"
   ]
  },
  {
   "cell_type": "code",
   "execution_count": 47,
   "id": "1f2e68de",
   "metadata": {},
   "outputs": [
    {
     "data": {
      "text/plain": [
       "RandomizedSearchCV(cv=5, estimator=DecisionTreeRegressor(random_state=10),\n",
       "                   param_distributions={'criterion': ['squared_error',\n",
       "                                                      'absolute_error'],\n",
       "                                        'max_depth': array([1, 2, 3, 4, 5, 6, 7, 8, 9]),\n",
       "                                        'min_samples_leaf': array([2, 3, 4, 5, 6, 7, 8, 9]),\n",
       "                                        'min_samples_split': array([2, 3, 4])})"
      ]
     },
     "execution_count": 47,
     "metadata": {},
     "output_type": "execute_result"
    }
   ],
   "source": [
    "hyp_model = DecisionTreeRegressor(random_state=10)\n",
    "hyper_para = ({'criterion':['squared_error', \"absolute_error\"],\"max_depth\":np.arange(1,10),\n",
    "               'min_samples_split': np.arange(2,5),\n",
    "               'min_samples_leaf': np.arange(2,10)})\n",
    "rscv = RandomizedSearchCV(hyp_model,hyper_para,cv=5)\n",
    "rscv.fit(x_train,y_train)"
   ]
  },
  {
   "cell_type": "code",
   "execution_count": 48,
   "id": "0f87dd0c",
   "metadata": {},
   "outputs": [
    {
     "data": {
      "text/plain": [
       "DecisionTreeRegressor(max_depth=9, min_samples_leaf=5, min_samples_split=4,\n",
       "                      random_state=10)"
      ]
     },
     "execution_count": 48,
     "metadata": {},
     "output_type": "execute_result"
    }
   ],
   "source": [
    "dt_hyp_model = rscv.best_estimator_\n",
    "dt_hyp_model.fit(x_train,y_train)"
   ]
  },
  {
   "cell_type": "code",
   "execution_count": 78,
   "id": "7fb10bb3",
   "metadata": {},
   "outputs": [
    {
     "data": {
      "image/png": "[encoded data removed]",
      "text/plain": [
       "<Figure size 720x3600 with 1 Axes>"
      ]
     },
     "metadata": {
      "needs_background": "light"
     },
     "output_type": "display_data"
    }
   ],
   "source": [
    "plt.figure(figsize=(10,50))\n",
    "plot_tree(dt_hyp_model,filled = True,feature_names= x.columns)\n",
    "plt.show()"
   ]
  },
  {
   "cell_type": "code",
   "execution_count": 50,
   "id": "32409d68",
   "metadata": {},
   "outputs": [],
   "source": [
    "hyp_dt_score = Calculation(dt_hyp_model,x_train,x_test,y_train,y_test)"
   ]
  },
  {
   "cell_type": "code",
   "execution_count": 51,
   "id": "d28bfdf2",
   "metadata": {},
   "outputs": [
    {
     "name": "stdout",
     "output_type": "stream",
     "text": [
      "Testing data evalution\n",
      "************************************************** \n",
      "mse:- 1.3174104245836902 \n",
      "************************************************** \n",
      "rmse:- 1.147785007997443 \n",
      "**************************************************  \n",
      "mae :- 1.3174104245836902 \n",
      "**************************************************  \n",
      "r2:- 0.8607874622202318 \n",
      "************************************************** \n"
     ]
    }
   ],
   "source": [
    "hyp_dt_score.testing()"
   ]
  },
  {
   "cell_type": "code",
   "execution_count": 52,
   "id": "b53406b6",
   "metadata": {},
   "outputs": [
    {
     "name": "stdout",
     "output_type": "stream",
     "text": [
      "Training data evalution\n",
      "************************************************** \n",
      "mse:- 1.1536745846974032 \n",
      "************************************************** \n",
      "rmse:- 1.0740924469976516 \n",
      "************************************************** \n",
      "mae :- 1.1536745846974032  \n",
      "************************************************** \n",
      "r2:- 0.9125421422920397 \n",
      "**************************************************\n"
     ]
    }
   ],
   "source": [
    "hyp_dt_score.training()"
   ]
  },
  {
   "cell_type": "markdown",
   "id": "3555b2b7",
   "metadata": {},
   "source": [
    "## RandomForest"
   ]
  },
  {
   "cell_type": "code",
   "execution_count": 53,
   "id": "c7d826be",
   "metadata": {},
   "outputs": [
    {
     "data": {
      "text/plain": [
       "RandomForestRegressor(random_state=10)"
      ]
     },
     "execution_count": 53,
     "metadata": {},
     "output_type": "execute_result"
    }
   ],
   "source": [
    "rf_model = RandomForestRegressor(random_state=10)\n",
    "rf_model.fit(x_train,y_train)"
   ]
  },
  {
   "cell_type": "code",
   "execution_count": 54,
   "id": "3e637f60",
   "metadata": {},
   "outputs": [],
   "source": [
    "rf_score = Calculation(rf_model,x_train,x_test,y_train,y_test)"
   ]
  },
  {
   "cell_type": "code",
   "execution_count": 55,
   "id": "081be1bc",
   "metadata": {},
   "outputs": [
    {
     "name": "stdout",
     "output_type": "stream",
     "text": [
      "Testing data evalution\n",
      "************************************************** \n",
      "mse:- 1.0220815915360832 \n",
      "************************************************** \n",
      "rmse:- 1.010980509968458 \n",
      "**************************************************  \n",
      "mae :- 1.0220815915360832 \n",
      "**************************************************  \n",
      "r2:- 0.8979095595852915 \n",
      "************************************************** \n"
     ]
    }
   ],
   "source": [
    "rf_score.testing()"
   ]
  },
  {
   "cell_type": "code",
   "execution_count": 56,
   "id": "a27e49a2",
   "metadata": {},
   "outputs": [
    {
     "name": "stdout",
     "output_type": "stream",
     "text": [
      "Training data evalution\n",
      "************************************************** \n",
      "mse:- 0.41309804719215465 \n",
      "************************************************** \n",
      "rmse:- 0.6427270394126535 \n",
      "************************************************** \n",
      "mae :- 0.41309804719215465  \n",
      "************************************************** \n",
      "r2:- 0.9840590056695959 \n",
      "**************************************************\n"
     ]
    }
   ],
   "source": [
    "rf_score.training()"
   ]
  },
  {
   "cell_type": "markdown",
   "id": "2d734f2a",
   "metadata": {},
   "source": [
    "## Random Forest With Hyperparameter Tunning"
   ]
  },
  {
   "cell_type": "code",
   "execution_count": 69,
   "id": "a485cabf",
   "metadata": {},
   "outputs": [
    {
     "data": {
      "text/plain": [
       "RandomizedSearchCV(cv=5, estimator=RandomForestRegressor(random_state=10),\n",
       "                   param_distributions={'criterion': ['squared_error',\n",
       "                                                      'absolute_error'],\n",
       "                                        'max_depth': array([ 1,  2,  3,  4,  5,  6,  7,  8,  9, 10, 11, 12, 13, 14, 15, 16, 17,\n",
       "       18, 19]),\n",
       "                                        'max_features': ['auto', 'sqrt',\n",
       "                                                         'log2'],\n",
       "                                        'min_samples_leaf': array([ 2,  3,  4,  5,  6,  7,  8,  9, 10, 11, 12, 13, 14, 15, 16, 17, 18,\n",
       "       19]),\n",
       "                                        'min_samples_split': array([2, 3, 4, 5, 6, 7, 8, 9]),\n",
       "                                        'n_estimators': array([ 1,  2,  3,  4,  5,  6,  7,  8,  9, 10, 11, 12, 13, 14, 15, 16, 17,\n",
       "       18, 19, 20, 21, 22, 23, 24, 25, 26, 27, 28, 29, 30, 31, 32, 33, 34,\n",
       "       35, 36, 37, 38, 39, 40, 41, 42, 43, 44, 45, 46, 47, 48, 49, 50, 51,\n",
       "       52, 53, 54, 55, 56, 57, 58, 59, 60, 61, 62, 63, 64, 65, 66, 67, 68,\n",
       "       69, 70, 71, 72, 73, 74, 75, 76, 77, 78, 79, 80, 81, 82, 83, 84, 85,\n",
       "       86, 87, 88, 89, 90, 91, 92, 93, 94, 95, 96, 97, 98, 99])})"
      ]
     },
     "execution_count": 69,
     "metadata": {},
     "output_type": "execute_result"
    }
   ],
   "source": [
    "rf_hyp_model = RandomForestRegressor(random_state=10)\n",
    "hyp_para_rf = ({'n_estimators':np.arange(1,100),'criterion' : ['squared_error','absolute_error'],\n",
    "    'max_depth':np.arange(1,20),\n",
    "    'min_samples_split':np.arange(2,10),\n",
    "    'min_samples_leaf':np.arange(2,20),\n",
    "    'max_features':['auto',\"sqrt\", \"log2\"]})\n",
    "rscv_rf = RandomizedSearchCV(rf_hyp_model,hyp_para_rf,cv = 5)\n",
    "rscv_rf.fit(x_train,y_train)"
   ]
  },
  {
   "cell_type": "code",
   "execution_count": 70,
   "id": "a6ada949",
   "metadata": {},
   "outputs": [
    {
     "data": {
      "text/plain": [
       "RandomForestRegressor(max_depth=14, min_samples_leaf=5, min_samples_split=6,\n",
       "                      n_estimators=39, random_state=10)"
      ]
     },
     "execution_count": 70,
     "metadata": {},
     "output_type": "execute_result"
    }
   ],
   "source": [
    "rf_af_hyp = rscv_rf.best_estimator_\n",
    "rf_af_hyp.fit(x_train,y_train)"
   ]
  },
  {
   "cell_type": "code",
   "execution_count": 71,
   "id": "6ff73af2",
   "metadata": {},
   "outputs": [],
   "source": [
    "rf_af_hyp_score = Calculation(rf_af_hyp,x_train,x_test,y_train,y_test)"
   ]
  },
  {
   "cell_type": "code",
   "execution_count": 72,
   "id": "cc2e591f",
   "metadata": {},
   "outputs": [
    {
     "name": "stdout",
     "output_type": "stream",
     "text": [
      "Testing data evalution\n",
      "************************************************** \n",
      "mse:- 1.0845314323593307 \n",
      "************************************************** \n",
      "rmse:- 1.0414083888462444 \n",
      "**************************************************  \n",
      "mae :- 1.0845314323593307 \n",
      "**************************************************  \n",
      "r2:- 0.8923639962237913 \n",
      "************************************************** \n"
     ]
    }
   ],
   "source": [
    "rf_af_hyp_score.testing()"
   ]
  },
  {
   "cell_type": "code",
   "execution_count": 73,
   "id": "275d70d4",
   "metadata": {},
   "outputs": [
    {
     "name": "stdout",
     "output_type": "stream",
     "text": [
      "Training data evalution\n",
      "************************************************** \n",
      "mse:- 0.89456129143968 \n",
      "************************************************** \n",
      "rmse:- 0.9458125033217102 \n",
      "************************************************** \n",
      "mae :- 0.89456129143968  \n",
      "************************************************** \n",
      "r2:- 0.9294526815461197 \n",
      "**************************************************\n"
     ]
    }
   ],
   "source": [
    "rf_af_hyp_score.training()"
   ]
  },
  {
   "cell_type": "code",
   "execution_count": 62,
   "id": "af0bb54d",
   "metadata": {},
   "outputs": [
    {
     "data": {
      "text/html": [
       "<div>\n",
       "<style scoped>\n",
       "    .dataframe tbody tr th:only-of-type {\n",
       "        vertical-align: middle;\n",
       "    }\n",
       "\n",
       "    .dataframe tbody tr th {\n",
       "        vertical-align: top;\n",
       "    }\n",
       "\n",
       "    .dataframe thead th {\n",
       "        text-align: right;\n",
       "    }\n",
       "</style>\n",
       "<table border=\"1\" class=\"dataframe\">\n",
       "  <thead>\n",
       "    <tr style=\"text-align: right;\">\n",
       "      <th></th>\n",
       "      <th>19973</th>\n",
       "    </tr>\n",
       "  </thead>\n",
       "  <tbody>\n",
       "    <tr>\n",
       "      <th>year</th>\n",
       "      <td>2019.0</td>\n",
       "    </tr>\n",
       "    <tr>\n",
       "      <th>seller_type</th>\n",
       "      <td>1.0</td>\n",
       "    </tr>\n",
       "    <tr>\n",
       "      <th>km_driven</th>\n",
       "      <td>13000.0</td>\n",
       "    </tr>\n",
       "    <tr>\n",
       "      <th>fuel_type</th>\n",
       "      <td>1.0</td>\n",
       "    </tr>\n",
       "    <tr>\n",
       "      <th>transmission_type</th>\n",
       "      <td>2.0</td>\n",
       "    </tr>\n",
       "    <tr>\n",
       "      <th>mileage</th>\n",
       "      <td>18.0</td>\n",
       "    </tr>\n",
       "    <tr>\n",
       "      <th>engine</th>\n",
       "      <td>1497.0</td>\n",
       "    </tr>\n",
       "    <tr>\n",
       "      <th>max_power</th>\n",
       "      <td>117.6</td>\n",
       "    </tr>\n",
       "    <tr>\n",
       "      <th>seats</th>\n",
       "      <td>5.0</td>\n",
       "    </tr>\n",
       "  </tbody>\n",
       "</table>\n",
       "</div>"
      ],
      "text/plain": [
       "                     19973\n",
       "year                2019.0\n",
       "seller_type            1.0\n",
       "km_driven          13000.0\n",
       "fuel_type              1.0\n",
       "transmission_type      2.0\n",
       "mileage               18.0\n",
       "engine              1497.0\n",
       "max_power            117.6\n",
       "seats                  5.0"
      ]
     },
     "execution_count": 62,
     "metadata": {},
     "output_type": "execute_result"
    }
   ],
   "source": [
    "x.tail(1).T"
   ]
  },
  {
   "cell_type": "code",
   "execution_count": 77,
   "id": "c83b5760",
   "metadata": {},
   "outputs": [
    {
     "data": {
      "text/plain": [
       "19973    12.0\n",
       "Name: selling_price, dtype: float64"
      ]
     },
     "execution_count": 77,
     "metadata": {},
     "output_type": "execute_result"
    }
   ],
   "source": [
    "y.tail(1)"
   ]
  },
  {
   "cell_type": "code",
   "execution_count": 66,
   "id": "0b29eb4a",
   "metadata": {},
   "outputs": [],
   "source": [
    "year = 2019\n",
    "seller_type = 1\n",
    "km_driven = 13000\n",
    "fuel_type = 0\n",
    "transmission_type =2\n",
    "mileage = 18\n",
    "engine = 1500\n",
    "max_power =117.6\n",
    "seats = 5"
   ]
  },
  {
   "cell_type": "code",
   "execution_count": 68,
   "id": "b335187f",
   "metadata": {},
   "outputs": [
    {
     "data": {
      "text/plain": [
       "array([[2.019e+03, 1.000e+00, 1.300e+04, 0.000e+00, 2.000e+00, 1.800e+01,\n",
       "        1.500e+03, 1.176e+02, 5.000e+00]])"
      ]
     },
     "execution_count": 68,
     "metadata": {},
     "output_type": "execute_result"
    }
   ],
   "source": [
    "test_array = np.array([[year,seller_type,km_driven,fuel_type,transmission_type,mileage,engine,max_power,seats]])\n",
    "test_array"
   ]
  },
  {
   "cell_type": "code",
   "execution_count": 76,
   "id": "6bb2619b",
   "metadata": {},
   "outputs": [
    {
     "name": "stderr",
     "output_type": "stream",
     "text": [
      "C:\\Users\\ASUS\\anaconda3\\lib\\site-packages\\sklearn\\base.py:450: UserWarning: X does not have valid feature names, but RandomForestRegressor was fitted with feature names\n",
      "  warnings.warn(\n"
     ]
    },
    {
     "data": {
      "text/plain": [
       "12.309394818968704"
      ]
     },
     "execution_count": 76,
     "metadata": {},
     "output_type": "execute_result"
    }
   ],
   "source": [
    "predict_cur_sp = rf_af_hyp.predict(test_array)[0]\n",
    "predict_cur_sp"
   ]
  },
  {
   "cell_type": "code",
   "execution_count": 79,
   "id": "f697529b",
   "metadata": {},
   "outputs": [],
   "source": [
    "import pickle\n",
    "with open(\"model.pkl\",\"wb\") as f:\n",
    "    pickle.dump(rf_af_hyp,f)"
   ]
  },
  {
   "cell_type": "code",
   "execution_count": 83,
   "id": "ec67eef8",
   "metadata": {},
   "outputs": [],
   "source": [
    "project_data = {\"columns\":list(x.columns),\"fuel_type\" :{'Petrol':1, 'Diesel':2, 'CNG':3, 'LPG':4, 'Electric':5},\n",
    "               \"transmission_type\" :{'Manual':1, 'Automatic':2},\n",
    "               \"seats\" : {'Seats5':5, 'Seats7':7, 'Seats8':8, 'Seats4':4, 'Seats6':6,'Seats2':2,'Seats9':9, \n",
    "               'Seats10':10, 'Seats14':14}}"
   ]
  },
  {
   "cell_type": "code",
   "execution_count": 84,
   "id": "cafa7b57",
   "metadata": {},
   "outputs": [],
   "source": [
    "import json\n",
    "with open (\"project_data.json\",\"w\") as f:\n",
    "    json.dump(project_data,f)"
   ]
  }
 ],
 "metadata": {
  "kernelspec": {
   "display_name": "Python 3 (ipykernel)",
   "language": "python",
   "name": "python3"
  },
  "language_info": {
   "codemirror_mode": {
    "name": "ipython",
    "version": 3
   },
   "file_extension": ".py",
   "mimetype": "text/x-python",
   "name": "python",
   "nbconvert_exporter": "python",
   "pygments_lexer": "ipython3",
   "version": "3.9.12"
  }
 },
 "nbformat": 4,
 "nbformat_minor": 5
}
